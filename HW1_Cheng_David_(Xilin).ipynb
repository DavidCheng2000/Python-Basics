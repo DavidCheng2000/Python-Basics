{
  "nbformat": 4,
  "nbformat_minor": 0,
  "metadata": {
    "colab": {
      "name": "HW1_Cheng_David (Xilin).ipynb",
      "provenance": [],
      "collapsed_sections": []
    },
    "kernelspec": {
      "name": "python3",
      "display_name": "Python 3"
    }
  },
  "cells": [
    {
      "cell_type": "markdown",
      "metadata": {
        "id": "hm8RAKinXsIP"
      },
      "source": [
        "## **Homework 1**\n",
        "\n",
        "### Create a copy of the notebook to start answering the questions. Name your notebook in the format HW1_lastname_firstname.ipynb to facilitate the grading process. \n",
        "\n",
        "### Answer all the questions, test your code to ensure there are no errors and the results are as expected. Once you have answered all the questions, save the final copy, then go to File-> click on Download.ipynb. Once the local copy has been downloaded, submit your file on Blackboard under the corresponding assignment section. Also provide us a link to your notebook during submission. \n",
        "\n",
        "### **The due date of this homework is 02/05/2021 (Friday).**\n",
        "\n",
        "### Please ensure you follow all the steps mentioned in the homework.\n",
        "\n",
        "### All the questions have a sample input and output to help you understand the question. Please note that your programs will be tested for other sets of inputs and outputs along with the sample provided. So test your code for other inputs.\n",
        "\n",
        "### You can submit your solutions any number of times until the deadline.\n"
      ]
    },
    {
      "cell_type": "markdown",
      "metadata": {
        "id": "uacFrEaZfcfq"
      },
      "source": [
        "##### Q1. Write a program that prompts the user to enter a password then prints the length of the password.\n",
        "\n",
        "```\n",
        "Enter your password: hello\n",
        "Your password is 5 long.\n",
        "```\n",
        "\n",
        "\n"
      ]
    },
    {
      "cell_type": "code",
      "metadata": {
        "id": "avPyES14ftCt",
        "colab": {
          "base_uri": "https://localhost:8080/"
        },
        "outputId": "dc9e3d90-90f4-4c51-8bf2-0379558d1071"
      },
      "source": [
        "# Type solution here\n",
        "password = input(\"Enter your password: \")\n",
        "print(\"Your password is\", len(password), \"long.\")"
      ],
      "execution_count": null,
      "outputs": [
        {
          "output_type": "stream",
          "text": [
            "Enter your password: David\n",
            "Your password is 5 long.\n"
          ],
          "name": "stdout"
        }
      ]
    },
    {
      "cell_type": "markdown",
      "metadata": {
        "id": "behD0j_Of2TW"
      },
      "source": [
        "##### Q2. Write a program that prompts the user to enter their full name then prints the number of characters in their name (do not count spaces).\n",
        "\n",
        "```\n",
        "What is your name? Amulya Katti\n",
        "Amulya Katti your name has 11 characters.\n",
        "```"
      ]
    },
    {
      "cell_type": "code",
      "metadata": {
        "id": "XSdIRjwlhSlu",
        "colab": {
          "base_uri": "https://localhost:8080/"
        },
        "outputId": "3c577a17-e2f8-4790-e881-1045972693d1"
      },
      "source": [
        "# Type solution here\n",
        "# Same as Q1, but eliminate the spaces in input with replace function\n",
        "name = input(\"What is your name? \")\n",
        "print(name, \"your name has\", len(name.replace(\" \", \"\")), \"characters.\")\n"
      ],
      "execution_count": null,
      "outputs": [
        {
          "output_type": "stream",
          "text": [
            "What is your name? David Cheng\n",
            "David Cheng your name has 10 characters.\n"
          ],
          "name": "stdout"
        }
      ]
    },
    {
      "cell_type": "markdown",
      "metadata": {
        "id": "5KHOWF6FhVHV"
      },
      "source": [
        "##### Q3. Write a program that prompts the user to enter a month (as a number), then prints the name of the month and the number of days in that month. Ensure that the user inputs a valid month and handle any error cases.\n",
        "\n",
        "```\n",
        "Enter the month number: 9\n",
        "September has 30 days\n",
        "```"
      ]
    },
    {
      "cell_type": "code",
      "metadata": {
        "id": "KhS-SAEThyTG",
        "colab": {
          "base_uri": "https://localhost:8080/"
        },
        "outputId": "04431221-141a-4ad0-d115-57f3467ad649"
      },
      "source": [
        "# Type solution here\n",
        "# Create a dictionary of months\n",
        "months = {\"January\": 31, \"February\": 28, \"March\": 31, \"April\": 30, \"May\": 31, \"June\": 30, \"July\": 31, \"August\": 31, \"September\": 30, \"October\": 31, \"November\": 30, \"December\": 31}\n",
        "# Create a list of months\n",
        "months_list = [\"January\", \"February\", \"March\", \"April\", \"May\", \"June\", \"July\", \"August\", \"September\", \"October\", \"November\", \"December\"]\n",
        "num = input(\"Enter the month number: \")\n",
        "# Check isdigit\n",
        "while not num.isdigit():\n",
        "  print(\"Please enter a valid number\")\n",
        "  num = input(\"Enter the month number: \")\n",
        "num = int(num)\n",
        "# Check in range\n",
        "if num not in range(1, 13):\n",
        "  print(\"This number is not in range 1 to 12\")\n",
        "else:\n",
        "  print(months_list[num - 1], \"has\", months[months_list[num - 1]], \"days\")"
      ],
      "execution_count": 12,
      "outputs": [
        {
          "output_type": "stream",
          "text": [
            "Enter the month number: 12\n",
            "December has 31 days\n"
          ],
          "name": "stdout"
        }
      ]
    },
    {
      "cell_type": "markdown",
      "metadata": {
        "id": "O7lnAdGlh6Xa"
      },
      "source": [
        "##### Q4. Write a program that prompts the user to enter a loan amount, annual interest rate, and number of years  for a car loan. Then calculate and print the monthly payment amount.\n",
        "\n",
        "Note:\n",
        "```\n",
        "PMT= [PV*i*((1+i)^n)]/[((1+i)^n)-1]\n",
        "```\n",
        "PMT is the monthly payment\n",
        "\n",
        "PV is the loan amount\n",
        "\n",
        "i is the interest rate per month in decimal form (interest rate percentage divided by 12)\n",
        "\n",
        "n is the number of months (term of the loan in months)\n",
        "\n",
        "```\n",
        "Loan Amount: 30000.00\n",
        "Annual Interest Rate: 4.00\n",
        "Years: 5\n",
        "Your monthly payment is: $552.50\n",
        "```"
      ]
    },
    {
      "cell_type": "code",
      "metadata": {
        "id": "p4B5JH5GiTs9",
        "colab": {
          "base_uri": "https://localhost:8080/"
        },
        "outputId": "7b517063-5d07-4832-8016-f1215beecb34"
      },
      "source": [
        "# Type solution here\n",
        "pv = float(input(\"Loan Amount: \"))\n",
        "annual_rate = float(input(\"Annual interest Rate: \"))\n",
        "years = float(input(\"Years: \"))\n",
        "i = annual_rate / 100 / 12\n",
        "n = 12 * years\n",
        "pmt = round((pv * i *((1 + i) ** n)) / (((1 + i) ** n) - 1), 2)\n",
        "print(\"Your monthly payment is: $\" + str(pmt))"
      ],
      "execution_count": null,
      "outputs": [
        {
          "output_type": "stream",
          "text": [
            "Loan Amount: 30000\n",
            "Annual interest Rate: 4\n",
            "Years: 5\n",
            "Your monthly payment is: $552.5\n"
          ],
          "name": "stdout"
        }
      ]
    },
    {
      "cell_type": "markdown",
      "metadata": {
        "id": "SjiolJKgiWV-"
      },
      "source": [
        "##### Q5. Write a program to that prompts the user to enter a string. Then check whether or not the string is a palindrome.\n",
        "\n",
        "```\n",
        "Enter a string: Madam\n",
        "Madam, is a palindrome!\n",
        "```"
      ]
    },
    {
      "cell_type": "code",
      "metadata": {
        "id": "F5_M934Ri0es",
        "colab": {
          "base_uri": "https://localhost:8080/"
        },
        "outputId": "3019ce32-f1d2-4c10-e1a7-82c989265d4d"
      },
      "source": [
        "# Type solution here\n",
        "# Create a function that reverses the input and check whether it's the same as the input\n",
        "def palindrome(s):\n",
        "  reverse = s.lower()[::-1]\n",
        "  if s.lower() == reverse:\n",
        "    return True\n",
        "  else:\n",
        "    return False\n",
        "\n",
        "s = str(input(\"Please enter a string: \"))\n",
        "if palindrome(s):\n",
        "  print(s + \", is a palindrome!\")\n",
        "else:\n",
        "  print(s, \"is not a palindrome.\")"
      ],
      "execution_count": null,
      "outputs": [
        {
          "output_type": "stream",
          "text": [
            "Please enter a string: DGAGD\n",
            "DGAGD, is a palindrome!\n"
          ],
          "name": "stdout"
        }
      ]
    },
    {
      "cell_type": "markdown",
      "metadata": {
        "id": "BLBD6n9vkJEu"
      },
      "source": [
        "##### Q6. Write a program to compute and print all possible combinations of change for \\$1. Denominations to be considered – quarter, dime, nickel, penny.\n",
        "\n",
        "Hint: Use nested loops (loops within loops for the various denominations of coins)\n",
        "\n",
        "```\n",
        "Change for $1:\n",
        "0 quarters, 0 dimes, 0 nickels, 100 pennies\n",
        "…\n",
        "4 quarters, 0 dimes, 0 nickels, 0 pennies\n",
        "```"
      ]
    },
    {
      "cell_type": "code",
      "metadata": {
        "id": "kAQsTjwDkZZ5",
        "colab": {
          "base_uri": "https://localhost:8080/"
        },
        "outputId": "2e2b7317-6bb8-47e6-ce62-eab4b4e2278a"
      },
      "source": [
        "# Type solution here\n",
        "# Create a function that takes in a value of money and generates different combinations of the value\n",
        "def change_combination(money):\n",
        "  money_penny = money * 100 # value expressed in penny\n",
        "  money_nickel = money * 20 # value expressed in nickel\n",
        "  money_dime = money * 10 # value expressed in dime\n",
        "  money_quarter = money * 4 # value expressed in quarter\n",
        "  # nested for loop: \n",
        "  quarter = 0\n",
        "  for quarter in range(0, money_quarter + 1):\n",
        "    dime = 0\n",
        "    for dime in range(0, int(((money_penny - quarter * 25) / 10) + 1)):\n",
        "      nickel = 0\n",
        "      for nickel in range(0, int(((money_penny - quarter * 25 - dime * 10) / 5) + 1)):\n",
        "        penny = money_penny - quarter * 25 - dime * 10 - nickel * 5\n",
        "        print(quarter, \"quarters,\", dime, \"dimes,\", nickel, \"nickels,\", penny, \"pennies\")\n",
        "        nickel += 1\n",
        "      dime += 1\n",
        "    quarter += 1\n",
        "\n",
        "# a function that runs change_combination with the value of $1\n",
        "def run():\n",
        "  print(\"Change for $1: \")\n",
        "  change_combination(1)\n",
        "\n",
        "run()"
      ],
      "execution_count": null,
      "outputs": [
        {
          "output_type": "stream",
          "text": [
            "Change for $1: \n",
            "0 quarters, 0 dimes, 0 nickels, 100 pennies\n",
            "0 quarters, 0 dimes, 1 nickels, 95 pennies\n",
            "0 quarters, 0 dimes, 2 nickels, 90 pennies\n",
            "0 quarters, 0 dimes, 3 nickels, 85 pennies\n",
            "0 quarters, 0 dimes, 4 nickels, 80 pennies\n",
            "0 quarters, 0 dimes, 5 nickels, 75 pennies\n",
            "0 quarters, 0 dimes, 6 nickels, 70 pennies\n",
            "0 quarters, 0 dimes, 7 nickels, 65 pennies\n",
            "0 quarters, 0 dimes, 8 nickels, 60 pennies\n",
            "0 quarters, 0 dimes, 9 nickels, 55 pennies\n",
            "0 quarters, 0 dimes, 10 nickels, 50 pennies\n",
            "0 quarters, 0 dimes, 11 nickels, 45 pennies\n",
            "0 quarters, 0 dimes, 12 nickels, 40 pennies\n",
            "0 quarters, 0 dimes, 13 nickels, 35 pennies\n",
            "0 quarters, 0 dimes, 14 nickels, 30 pennies\n",
            "0 quarters, 0 dimes, 15 nickels, 25 pennies\n",
            "0 quarters, 0 dimes, 16 nickels, 20 pennies\n",
            "0 quarters, 0 dimes, 17 nickels, 15 pennies\n",
            "0 quarters, 0 dimes, 18 nickels, 10 pennies\n",
            "0 quarters, 0 dimes, 19 nickels, 5 pennies\n",
            "0 quarters, 0 dimes, 20 nickels, 0 pennies\n",
            "0 quarters, 1 dimes, 0 nickels, 90 pennies\n",
            "0 quarters, 1 dimes, 1 nickels, 85 pennies\n",
            "0 quarters, 1 dimes, 2 nickels, 80 pennies\n",
            "0 quarters, 1 dimes, 3 nickels, 75 pennies\n",
            "0 quarters, 1 dimes, 4 nickels, 70 pennies\n",
            "0 quarters, 1 dimes, 5 nickels, 65 pennies\n",
            "0 quarters, 1 dimes, 6 nickels, 60 pennies\n",
            "0 quarters, 1 dimes, 7 nickels, 55 pennies\n",
            "0 quarters, 1 dimes, 8 nickels, 50 pennies\n",
            "0 quarters, 1 dimes, 9 nickels, 45 pennies\n",
            "0 quarters, 1 dimes, 10 nickels, 40 pennies\n",
            "0 quarters, 1 dimes, 11 nickels, 35 pennies\n",
            "0 quarters, 1 dimes, 12 nickels, 30 pennies\n",
            "0 quarters, 1 dimes, 13 nickels, 25 pennies\n",
            "0 quarters, 1 dimes, 14 nickels, 20 pennies\n",
            "0 quarters, 1 dimes, 15 nickels, 15 pennies\n",
            "0 quarters, 1 dimes, 16 nickels, 10 pennies\n",
            "0 quarters, 1 dimes, 17 nickels, 5 pennies\n",
            "0 quarters, 1 dimes, 18 nickels, 0 pennies\n",
            "0 quarters, 2 dimes, 0 nickels, 80 pennies\n",
            "0 quarters, 2 dimes, 1 nickels, 75 pennies\n",
            "0 quarters, 2 dimes, 2 nickels, 70 pennies\n",
            "0 quarters, 2 dimes, 3 nickels, 65 pennies\n",
            "0 quarters, 2 dimes, 4 nickels, 60 pennies\n",
            "0 quarters, 2 dimes, 5 nickels, 55 pennies\n",
            "0 quarters, 2 dimes, 6 nickels, 50 pennies\n",
            "0 quarters, 2 dimes, 7 nickels, 45 pennies\n",
            "0 quarters, 2 dimes, 8 nickels, 40 pennies\n",
            "0 quarters, 2 dimes, 9 nickels, 35 pennies\n",
            "0 quarters, 2 dimes, 10 nickels, 30 pennies\n",
            "0 quarters, 2 dimes, 11 nickels, 25 pennies\n",
            "0 quarters, 2 dimes, 12 nickels, 20 pennies\n",
            "0 quarters, 2 dimes, 13 nickels, 15 pennies\n",
            "0 quarters, 2 dimes, 14 nickels, 10 pennies\n",
            "0 quarters, 2 dimes, 15 nickels, 5 pennies\n",
            "0 quarters, 2 dimes, 16 nickels, 0 pennies\n",
            "0 quarters, 3 dimes, 0 nickels, 70 pennies\n",
            "0 quarters, 3 dimes, 1 nickels, 65 pennies\n",
            "0 quarters, 3 dimes, 2 nickels, 60 pennies\n",
            "0 quarters, 3 dimes, 3 nickels, 55 pennies\n",
            "0 quarters, 3 dimes, 4 nickels, 50 pennies\n",
            "0 quarters, 3 dimes, 5 nickels, 45 pennies\n",
            "0 quarters, 3 dimes, 6 nickels, 40 pennies\n",
            "0 quarters, 3 dimes, 7 nickels, 35 pennies\n",
            "0 quarters, 3 dimes, 8 nickels, 30 pennies\n",
            "0 quarters, 3 dimes, 9 nickels, 25 pennies\n",
            "0 quarters, 3 dimes, 10 nickels, 20 pennies\n",
            "0 quarters, 3 dimes, 11 nickels, 15 pennies\n",
            "0 quarters, 3 dimes, 12 nickels, 10 pennies\n",
            "0 quarters, 3 dimes, 13 nickels, 5 pennies\n",
            "0 quarters, 3 dimes, 14 nickels, 0 pennies\n",
            "0 quarters, 4 dimes, 0 nickels, 60 pennies\n",
            "0 quarters, 4 dimes, 1 nickels, 55 pennies\n",
            "0 quarters, 4 dimes, 2 nickels, 50 pennies\n",
            "0 quarters, 4 dimes, 3 nickels, 45 pennies\n",
            "0 quarters, 4 dimes, 4 nickels, 40 pennies\n",
            "0 quarters, 4 dimes, 5 nickels, 35 pennies\n",
            "0 quarters, 4 dimes, 6 nickels, 30 pennies\n",
            "0 quarters, 4 dimes, 7 nickels, 25 pennies\n",
            "0 quarters, 4 dimes, 8 nickels, 20 pennies\n",
            "0 quarters, 4 dimes, 9 nickels, 15 pennies\n",
            "0 quarters, 4 dimes, 10 nickels, 10 pennies\n",
            "0 quarters, 4 dimes, 11 nickels, 5 pennies\n",
            "0 quarters, 4 dimes, 12 nickels, 0 pennies\n",
            "0 quarters, 5 dimes, 0 nickels, 50 pennies\n",
            "0 quarters, 5 dimes, 1 nickels, 45 pennies\n",
            "0 quarters, 5 dimes, 2 nickels, 40 pennies\n",
            "0 quarters, 5 dimes, 3 nickels, 35 pennies\n",
            "0 quarters, 5 dimes, 4 nickels, 30 pennies\n",
            "0 quarters, 5 dimes, 5 nickels, 25 pennies\n",
            "0 quarters, 5 dimes, 6 nickels, 20 pennies\n",
            "0 quarters, 5 dimes, 7 nickels, 15 pennies\n",
            "0 quarters, 5 dimes, 8 nickels, 10 pennies\n",
            "0 quarters, 5 dimes, 9 nickels, 5 pennies\n",
            "0 quarters, 5 dimes, 10 nickels, 0 pennies\n",
            "0 quarters, 6 dimes, 0 nickels, 40 pennies\n",
            "0 quarters, 6 dimes, 1 nickels, 35 pennies\n",
            "0 quarters, 6 dimes, 2 nickels, 30 pennies\n",
            "0 quarters, 6 dimes, 3 nickels, 25 pennies\n",
            "0 quarters, 6 dimes, 4 nickels, 20 pennies\n",
            "0 quarters, 6 dimes, 5 nickels, 15 pennies\n",
            "0 quarters, 6 dimes, 6 nickels, 10 pennies\n",
            "0 quarters, 6 dimes, 7 nickels, 5 pennies\n",
            "0 quarters, 6 dimes, 8 nickels, 0 pennies\n",
            "0 quarters, 7 dimes, 0 nickels, 30 pennies\n",
            "0 quarters, 7 dimes, 1 nickels, 25 pennies\n",
            "0 quarters, 7 dimes, 2 nickels, 20 pennies\n",
            "0 quarters, 7 dimes, 3 nickels, 15 pennies\n",
            "0 quarters, 7 dimes, 4 nickels, 10 pennies\n",
            "0 quarters, 7 dimes, 5 nickels, 5 pennies\n",
            "0 quarters, 7 dimes, 6 nickels, 0 pennies\n",
            "0 quarters, 8 dimes, 0 nickels, 20 pennies\n",
            "0 quarters, 8 dimes, 1 nickels, 15 pennies\n",
            "0 quarters, 8 dimes, 2 nickels, 10 pennies\n",
            "0 quarters, 8 dimes, 3 nickels, 5 pennies\n",
            "0 quarters, 8 dimes, 4 nickels, 0 pennies\n",
            "0 quarters, 9 dimes, 0 nickels, 10 pennies\n",
            "0 quarters, 9 dimes, 1 nickels, 5 pennies\n",
            "0 quarters, 9 dimes, 2 nickels, 0 pennies\n",
            "0 quarters, 10 dimes, 0 nickels, 0 pennies\n",
            "1 quarters, 0 dimes, 0 nickels, 75 pennies\n",
            "1 quarters, 0 dimes, 1 nickels, 70 pennies\n",
            "1 quarters, 0 dimes, 2 nickels, 65 pennies\n",
            "1 quarters, 0 dimes, 3 nickels, 60 pennies\n",
            "1 quarters, 0 dimes, 4 nickels, 55 pennies\n",
            "1 quarters, 0 dimes, 5 nickels, 50 pennies\n",
            "1 quarters, 0 dimes, 6 nickels, 45 pennies\n",
            "1 quarters, 0 dimes, 7 nickels, 40 pennies\n",
            "1 quarters, 0 dimes, 8 nickels, 35 pennies\n",
            "1 quarters, 0 dimes, 9 nickels, 30 pennies\n",
            "1 quarters, 0 dimes, 10 nickels, 25 pennies\n",
            "1 quarters, 0 dimes, 11 nickels, 20 pennies\n",
            "1 quarters, 0 dimes, 12 nickels, 15 pennies\n",
            "1 quarters, 0 dimes, 13 nickels, 10 pennies\n",
            "1 quarters, 0 dimes, 14 nickels, 5 pennies\n",
            "1 quarters, 0 dimes, 15 nickels, 0 pennies\n",
            "1 quarters, 1 dimes, 0 nickels, 65 pennies\n",
            "1 quarters, 1 dimes, 1 nickels, 60 pennies\n",
            "1 quarters, 1 dimes, 2 nickels, 55 pennies\n",
            "1 quarters, 1 dimes, 3 nickels, 50 pennies\n",
            "1 quarters, 1 dimes, 4 nickels, 45 pennies\n",
            "1 quarters, 1 dimes, 5 nickels, 40 pennies\n",
            "1 quarters, 1 dimes, 6 nickels, 35 pennies\n",
            "1 quarters, 1 dimes, 7 nickels, 30 pennies\n",
            "1 quarters, 1 dimes, 8 nickels, 25 pennies\n",
            "1 quarters, 1 dimes, 9 nickels, 20 pennies\n",
            "1 quarters, 1 dimes, 10 nickels, 15 pennies\n",
            "1 quarters, 1 dimes, 11 nickels, 10 pennies\n",
            "1 quarters, 1 dimes, 12 nickels, 5 pennies\n",
            "1 quarters, 1 dimes, 13 nickels, 0 pennies\n",
            "1 quarters, 2 dimes, 0 nickels, 55 pennies\n",
            "1 quarters, 2 dimes, 1 nickels, 50 pennies\n",
            "1 quarters, 2 dimes, 2 nickels, 45 pennies\n",
            "1 quarters, 2 dimes, 3 nickels, 40 pennies\n",
            "1 quarters, 2 dimes, 4 nickels, 35 pennies\n",
            "1 quarters, 2 dimes, 5 nickels, 30 pennies\n",
            "1 quarters, 2 dimes, 6 nickels, 25 pennies\n",
            "1 quarters, 2 dimes, 7 nickels, 20 pennies\n",
            "1 quarters, 2 dimes, 8 nickels, 15 pennies\n",
            "1 quarters, 2 dimes, 9 nickels, 10 pennies\n",
            "1 quarters, 2 dimes, 10 nickels, 5 pennies\n",
            "1 quarters, 2 dimes, 11 nickels, 0 pennies\n",
            "1 quarters, 3 dimes, 0 nickels, 45 pennies\n",
            "1 quarters, 3 dimes, 1 nickels, 40 pennies\n",
            "1 quarters, 3 dimes, 2 nickels, 35 pennies\n",
            "1 quarters, 3 dimes, 3 nickels, 30 pennies\n",
            "1 quarters, 3 dimes, 4 nickels, 25 pennies\n",
            "1 quarters, 3 dimes, 5 nickels, 20 pennies\n",
            "1 quarters, 3 dimes, 6 nickels, 15 pennies\n",
            "1 quarters, 3 dimes, 7 nickels, 10 pennies\n",
            "1 quarters, 3 dimes, 8 nickels, 5 pennies\n",
            "1 quarters, 3 dimes, 9 nickels, 0 pennies\n",
            "1 quarters, 4 dimes, 0 nickels, 35 pennies\n",
            "1 quarters, 4 dimes, 1 nickels, 30 pennies\n",
            "1 quarters, 4 dimes, 2 nickels, 25 pennies\n",
            "1 quarters, 4 dimes, 3 nickels, 20 pennies\n",
            "1 quarters, 4 dimes, 4 nickels, 15 pennies\n",
            "1 quarters, 4 dimes, 5 nickels, 10 pennies\n",
            "1 quarters, 4 dimes, 6 nickels, 5 pennies\n",
            "1 quarters, 4 dimes, 7 nickels, 0 pennies\n",
            "1 quarters, 5 dimes, 0 nickels, 25 pennies\n",
            "1 quarters, 5 dimes, 1 nickels, 20 pennies\n",
            "1 quarters, 5 dimes, 2 nickels, 15 pennies\n",
            "1 quarters, 5 dimes, 3 nickels, 10 pennies\n",
            "1 quarters, 5 dimes, 4 nickels, 5 pennies\n",
            "1 quarters, 5 dimes, 5 nickels, 0 pennies\n",
            "1 quarters, 6 dimes, 0 nickels, 15 pennies\n",
            "1 quarters, 6 dimes, 1 nickels, 10 pennies\n",
            "1 quarters, 6 dimes, 2 nickels, 5 pennies\n",
            "1 quarters, 6 dimes, 3 nickels, 0 pennies\n",
            "1 quarters, 7 dimes, 0 nickels, 5 pennies\n",
            "1 quarters, 7 dimes, 1 nickels, 0 pennies\n",
            "2 quarters, 0 dimes, 0 nickels, 50 pennies\n",
            "2 quarters, 0 dimes, 1 nickels, 45 pennies\n",
            "2 quarters, 0 dimes, 2 nickels, 40 pennies\n",
            "2 quarters, 0 dimes, 3 nickels, 35 pennies\n",
            "2 quarters, 0 dimes, 4 nickels, 30 pennies\n",
            "2 quarters, 0 dimes, 5 nickels, 25 pennies\n",
            "2 quarters, 0 dimes, 6 nickels, 20 pennies\n",
            "2 quarters, 0 dimes, 7 nickels, 15 pennies\n",
            "2 quarters, 0 dimes, 8 nickels, 10 pennies\n",
            "2 quarters, 0 dimes, 9 nickels, 5 pennies\n",
            "2 quarters, 0 dimes, 10 nickels, 0 pennies\n",
            "2 quarters, 1 dimes, 0 nickels, 40 pennies\n",
            "2 quarters, 1 dimes, 1 nickels, 35 pennies\n",
            "2 quarters, 1 dimes, 2 nickels, 30 pennies\n",
            "2 quarters, 1 dimes, 3 nickels, 25 pennies\n",
            "2 quarters, 1 dimes, 4 nickels, 20 pennies\n",
            "2 quarters, 1 dimes, 5 nickels, 15 pennies\n",
            "2 quarters, 1 dimes, 6 nickels, 10 pennies\n",
            "2 quarters, 1 dimes, 7 nickels, 5 pennies\n",
            "2 quarters, 1 dimes, 8 nickels, 0 pennies\n",
            "2 quarters, 2 dimes, 0 nickels, 30 pennies\n",
            "2 quarters, 2 dimes, 1 nickels, 25 pennies\n",
            "2 quarters, 2 dimes, 2 nickels, 20 pennies\n",
            "2 quarters, 2 dimes, 3 nickels, 15 pennies\n",
            "2 quarters, 2 dimes, 4 nickels, 10 pennies\n",
            "2 quarters, 2 dimes, 5 nickels, 5 pennies\n",
            "2 quarters, 2 dimes, 6 nickels, 0 pennies\n",
            "2 quarters, 3 dimes, 0 nickels, 20 pennies\n",
            "2 quarters, 3 dimes, 1 nickels, 15 pennies\n",
            "2 quarters, 3 dimes, 2 nickels, 10 pennies\n",
            "2 quarters, 3 dimes, 3 nickels, 5 pennies\n",
            "2 quarters, 3 dimes, 4 nickels, 0 pennies\n",
            "2 quarters, 4 dimes, 0 nickels, 10 pennies\n",
            "2 quarters, 4 dimes, 1 nickels, 5 pennies\n",
            "2 quarters, 4 dimes, 2 nickels, 0 pennies\n",
            "2 quarters, 5 dimes, 0 nickels, 0 pennies\n",
            "3 quarters, 0 dimes, 0 nickels, 25 pennies\n",
            "3 quarters, 0 dimes, 1 nickels, 20 pennies\n",
            "3 quarters, 0 dimes, 2 nickels, 15 pennies\n",
            "3 quarters, 0 dimes, 3 nickels, 10 pennies\n",
            "3 quarters, 0 dimes, 4 nickels, 5 pennies\n",
            "3 quarters, 0 dimes, 5 nickels, 0 pennies\n",
            "3 quarters, 1 dimes, 0 nickels, 15 pennies\n",
            "3 quarters, 1 dimes, 1 nickels, 10 pennies\n",
            "3 quarters, 1 dimes, 2 nickels, 5 pennies\n",
            "3 quarters, 1 dimes, 3 nickels, 0 pennies\n",
            "3 quarters, 2 dimes, 0 nickels, 5 pennies\n",
            "3 quarters, 2 dimes, 1 nickels, 0 pennies\n",
            "4 quarters, 0 dimes, 0 nickels, 0 pennies\n"
          ],
          "name": "stdout"
        }
      ]
    },
    {
      "cell_type": "markdown",
      "metadata": {
        "id": "rUPDjYiIkbgs"
      },
      "source": [
        "##### Q7. Ask the user to enter two positive integers between 1 and 100. Read those integers. Then output a multiplication table of the first number times the second number. \n",
        "\n",
        "Note: You have to ensure the entered numbers are between 1 and 100 only.\n",
        "\n",
        "```\n",
        "Please enter an integer: 5\n",
        "Please enter another integer: 20\n",
        "5 x 1 = 5\n",
        "5 x 2 = 10\n",
        "5 x 3 = 15\n",
        "…\n",
        "5 x 20 = 100\n",
        "```"
      ]
    },
    {
      "cell_type": "code",
      "metadata": {
        "id": "Qg0Orv1klHzA",
        "colab": {
          "base_uri": "https://localhost:8080/"
        },
        "outputId": "f15ced92-fc04-4ad1-f7f7-06da22e8ad7a"
      },
      "source": [
        "# Type solution here\n",
        "\n",
        "# a function that checks if the input is digit\n",
        "def checkIsNumber(num):\n",
        "  if num.isdigit():\n",
        "    return True\n",
        "  else:\n",
        "    return False\n",
        "\n",
        "# a function that checks if the input is in range\n",
        "def checkRange(num):\n",
        "  if num >= 1 and num <= 100:\n",
        "    return True\n",
        "  else:\n",
        "    return False\n",
        "\n",
        "# a function that asks for an integer and error-checks it\n",
        "def getInteger():\n",
        "  num = input(\"Please enter an integer: \")\n",
        "  while checkIsNumber(num) == False:\n",
        "    print(\"This is not an integer.\")\n",
        "    num = input(\"Please enter an integer: \")\n",
        "  while checkRange(int(num)) == False:\n",
        "    print(\"Integer must be between 1 and 100.\")\n",
        "    num = input(\"Please enter an integer: \")\n",
        "    while checkIsNumber(num) == False:\n",
        "      print(\"This is not an integer.\")\n",
        "      num = input(\"Please enter an integer: \")\n",
        "  return int(num)\n",
        "\n",
        "num1 = getInteger()\n",
        "num2 = getInteger()\n",
        "# Create a for loop that generates the multiplication table\n",
        "for i in range(1, num2 + 1):\n",
        "  print(num1, \"x\", i, \"=\", num1 * i)"
      ],
      "execution_count": 13,
      "outputs": [
        {
          "output_type": "stream",
          "text": [
            "Please enter an integer: d\n",
            "This is not an integer.\n",
            "Please enter an integer: 101\n",
            "Integer must be between 1 and 100.\n",
            "Please enter an integer: 5\n",
            "Please enter an integer: 20\n",
            "5 x 1 = 5\n",
            "5 x 2 = 10\n",
            "5 x 3 = 15\n",
            "5 x 4 = 20\n",
            "5 x 5 = 25\n",
            "5 x 6 = 30\n",
            "5 x 7 = 35\n",
            "5 x 8 = 40\n",
            "5 x 9 = 45\n",
            "5 x 10 = 50\n",
            "5 x 11 = 55\n",
            "5 x 12 = 60\n",
            "5 x 13 = 65\n",
            "5 x 14 = 70\n",
            "5 x 15 = 75\n",
            "5 x 16 = 80\n",
            "5 x 17 = 85\n",
            "5 x 18 = 90\n",
            "5 x 19 = 95\n",
            "5 x 20 = 100\n"
          ],
          "name": "stdout"
        }
      ]
    },
    {
      "cell_type": "markdown",
      "metadata": {
        "id": "SbnbPUPTlLD9"
      },
      "source": [
        "##### Q8. Write a program to ask the user to enter a password. Then check to see if it is a valid password based on these requirements -\n",
        "\n",
        "Must be at least 8 characters long\n",
        "\n",
        "Must contain both uppercase and lowercase letters\n",
        "\n",
        "Must contain at least one number between 0-9\n",
        "\n",
        "Must contain a special character -!,@,#,$\n",
        "\n",
        "If the password is not valid, ask the user to re-enter. This should continue until the user enters a valid password. After a valid password is entered, print Access Granted!\n",
        "\n",
        "```\n",
        "Please enter a password. Follow these requirements - \n",
        "a. Must be at least 8 characters long\n",
        "b. Must contain both uppercase and lowercase letters\n",
        "c. Must contain at least one number between 0-9\n",
        "d. Must contain a special character -!,@,#,$\n",
        "Password: HelloWorld1\n",
        "Invalid password. Try again!\n",
        "Password: Hello@World1\n",
        "Access Granted!\n",
        "```\n"
      ]
    },
    {
      "cell_type": "code",
      "metadata": {
        "id": "OXmZ177Rl-RV",
        "colab": {
          "base_uri": "https://localhost:8080/"
        },
        "outputId": "c60f2a19-0e98-4196-bc40-81efc38efd11"
      },
      "source": [
        "# Type solution here\n",
        "# Check if the password is at least 8 characters long\n",
        "def checkLength(s):\n",
        "  if len(s) < 8:\n",
        "    return False\n",
        "  else:\n",
        "    return True\n",
        "\n",
        "# Check if the password contains both uppercase and lowercase letters\n",
        "def checkLetter(s):\n",
        "  if s.lower() == s or s.upper() == s:\n",
        "    return False\n",
        "  else:\n",
        "    return True\n",
        "\n",
        "# Check if there's a number\n",
        "def checkNum(s):\n",
        "  containNum = 0\n",
        "  for i in range(0, len(s)):\n",
        "    if s[i].isdigit():\n",
        "      containNum += 1\n",
        "  if containNum > 0:\n",
        "    return True\n",
        "  else:\n",
        "    return False\n",
        "\n",
        "# Check if there's a speial character\n",
        "def checkSpecial(s):\n",
        "  containSpecial = 0\n",
        "  for i in range(0, len(s)):\n",
        "    if s[i] == \"-\" or s[i] == \"@\" or s[i] == \"!\" or s[i] == \"$\":\n",
        "      containSpecial += 1\n",
        "  if containSpecial > 0:\n",
        "    return True\n",
        "  else:\n",
        "    return False\n",
        "\n",
        "print(\"Please enter a password. Follow these requirements - \\na. Must be at least 8 characters long\\nb. Must contain both uppercase and lowercase letters\\nc. Must contain at least one number between 0-9\\nd. Must contain a special character -!,@,#,$\")\n",
        "password = input(\"Password: \")\n",
        "while not (checkLength(password) and checkLetter(password) and checkNum(password) and checkSpecial(password)):\n",
        "  print(\"Invalid password. Try Again!\")\n",
        "  password = input(\"Password: \")\n",
        "print(\"Access Granted!\")"
      ],
      "execution_count": null,
      "outputs": [
        {
          "output_type": "stream",
          "text": [
            "Please enter a password. Follow these requirements - \n",
            "a. Must be at least 8 characters long\n",
            "b. Must contain both uppercase and lowercase letters\n",
            "c. Must contain at least one number between 0-9\n",
            "d. Must contain a special character -!,@,#,$\n",
            "Password: @David0510\n",
            "Access Granted!\n"
          ],
          "name": "stdout"
        }
      ]
    },
    {
      "cell_type": "markdown",
      "metadata": {
        "id": "-0sdutTDnTKA"
      },
      "source": [
        "##### Q9. Given the score sheet of participants in a competition, you are required to find the runner-up score. You are given scores in a list. Find the score of the runner-up.\n",
        "\n",
        "```\n",
        "list1 - [2, 3, 6, 6, 5]\n",
        "runner_up - 5\n",
        "\n",
        "list2 - [1, 7, 5, 3, 10, 4, 5, 5, 6, 11]\n",
        "runner_up - 10\n",
        "```"
      ]
    },
    {
      "cell_type": "code",
      "metadata": {
        "id": "12YP9OaqpGRK",
        "colab": {
          "base_uri": "https://localhost:8080/"
        },
        "outputId": "eb564620-fb47-473b-ccad-45453e106f83"
      },
      "source": [
        "# Type solution here\n",
        "# For this question, I ask the user to enter some scores until they decline to do so, and then I find the runner-up score among all the scores being entered\n",
        "\n",
        "# a function that checks if the input is digit\n",
        "def checkNum(num):\n",
        "  if num.isdigit():\n",
        "    return True\n",
        "  else:\n",
        "    return False\n",
        "\n",
        "# another is a string from the users as they decide whether or not to continue entering scores. This function checks if another is of designated values (y/n)\n",
        "def checkAnother(another):\n",
        "  if another.lower() != \"y\" and another.lower() != \"n\":\n",
        "    return False\n",
        "  else:\n",
        "    return True\n",
        "\n",
        "another = \"y\"\n",
        "num_list = [] # create an empty list to store user input\n",
        "# Create a while loop to ask for user input\n",
        "while another.lower() == \"y\":\n",
        "  num = input(\"Please enter a score: \")\n",
        "  while not checkNum(num):\n",
        "    print(\"This is not a number.\")\n",
        "    num = input(\"Please enter a score: \")\n",
        "  num_list.append(int(num))\n",
        "  another = input(\"Do you want to enter another score?(y/n): \")\n",
        "  while not checkAnother(another):\n",
        "    another = input(\"Invalid input! Please enter either \\\"y\\\" or \\\"n\\\": \")\n",
        "\n",
        "num_list.sort(reverse = True) # sort the list in descendent order\n",
        "print(\"\\nYour score list is:\", num_list) # print the list\n",
        "\n",
        "i = 0\n",
        "runner_up = None\n",
        "while runner_up == None and i < len(num_list) - 1: # a while loop that runs through num_list to check if there's any duplicate top scores.\n",
        "  if num_list[i] == num_list[i + 1]:\n",
        "    i += 1\n",
        "  else:\n",
        "    runner_up = num_list[i + 1]\n",
        "if i == len(num_list) - 1: # After running through the list and all scores are the same, then there's no runner-up score.\n",
        "  print(\"All scores are the same, so there is no runner-up score.\")\n",
        "else:\n",
        "  print(\"The runner-up score is\", runner_up)"
      ],
      "execution_count": 14,
      "outputs": [
        {
          "output_type": "stream",
          "text": [
            "Please enter a score: 2\n",
            "Do you want to enter another score?(y/n): y\n",
            "Please enter a score: 3\n",
            "Do you want to enter another score?(y/n): y\n",
            "Please enter a score: 6\n",
            "Do you want to enter another score?(y/n): y\n",
            "Please enter a score: 6\n",
            "Do you want to enter another score?(y/n): y\n",
            "Please enter a score: 5\n",
            "Do you want to enter another score?(y/n): n\n",
            "\n",
            "Your score list is: [6, 6, 5, 3, 2]\n",
            "The runner-up score is 5\n"
          ],
          "name": "stdout"
        }
      ]
    }
  ]
}